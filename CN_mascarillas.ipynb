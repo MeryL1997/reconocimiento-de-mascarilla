{
 "cells": [
  {
   "cell_type": "code",
   "execution_count": 1,
   "metadata": {},
   "outputs": [],
   "source": [
    "#liberia\n",
    "import tensorflow.keras\n",
    "import cv2\n",
    "from PIL import Image, ImageOps\n",
    "import numpy as np"
   ]
  },
  {
   "cell_type": "code",
   "execution_count": 2,
   "metadata": {},
   "outputs": [],
   "source": [
    "#deshabilitar la notación científica para mayor claridad\n",
    "np.set_printoptions(suppress=True)"
   ]
  },
  {
   "cell_type": "code",
   "execution_count": 3,
   "metadata": {},
   "outputs": [],
   "source": [
    "import os\n",
    "mascarilla_folde_path=\"./archive/with_mask\"\n",
    "mascarilla=[]\n",
    "imge_size=150\n",
    "for imge in os.listdir(mascarilla_folde_path):\n",
    "    imge=cv2.imread(os.path.join(mascarilla_folde_path,imge))\n",
    "    imge_resize= cv2.resize(imge,(imge_size, imge_size))\n",
    "    mascarilla.append(imge_resize)"
   ]
  },
  {
   "cell_type": "code",
   "execution_count": null,
   "metadata": {},
   "outputs": [],
   "source": [
    "mascarilla = np.array(mascarilla)\n",
    "print(mascarilla)"
   ]
  },
  {
   "cell_type": "code",
   "execution_count": null,
   "metadata": {},
   "outputs": [],
   "source": [
    "import os\n",
    "sin_mascarilla_folde_path=\"./archive/without_mask\"\n",
    "sin_mascarilla=[]\n",
    "imge_size=150\n",
    "for imge in os.listdir(sin_mascarilla_folde_path):\n",
    "    imge=cv2.imread(os.path.join(sin_mascarilla_folde_path,imge))\n",
    "    imge_resize= cv2.resize(imge,(imge_size, imge_size))\n",
    "    mascarilla.append(imge_resize)"
   ]
  },
  {
   "cell_type": "code",
   "execution_count": null,
   "metadata": {},
   "outputs": [],
   "source": [
    "sin_mascarilla = np.array(sin_mascarilla)\n",
    "print(sin_mascarilla)"
   ]
  },
  {
   "cell_type": "code",
   "execution_count": null,
   "metadata": {},
   "outputs": [],
   "source": [
    "import os\n",
    "wrong_mascarilla_folde_path=\"./archive/wrong_mask\"\n",
    "wrong_mascarilla=[]\n",
    "imge_size=150\n",
    "for imge in os.listdir(wrong_mascarilla_folde_path):\n",
    "    imge=cv2.imread(os.path.join(wrong_mascarilla_folde_path,imge))\n",
    "    imge_resize= cv2.resize(imge,(imge_size, imge_size))\n",
    "    mascarilla.append(imge_resize)"
   ]
  },
  {
   "cell_type": "code",
   "execution_count": null,
   "metadata": {},
   "outputs": [],
   "source": [
    "wrong_mascarilla = np.array(wrong_mascarilla)\n",
    "print(wrong_mascarilla)"
   ]
  },
  {
   "cell_type": "code",
   "execution_count": null,
   "metadata": {},
   "outputs": [],
   "source": [
    "#permite convertir asta lista en un array\n",
    "mascarilla = np.array(mascarilla)\n",
    "sin_mascarill= np.array(sin_mascarill)\n",
    "wrong_mascarilla= np.array(wrong_mascarilla)\n",
    "print(\"mascarilla: \", mascarilla.shape)\n",
    "print(\"sin_mascarilla: \", sin_mascarilla.shape)\n",
    "print(\"wrong_mascarilla: \", wrong_mascarilla.shape)"
   ]
  },
  {
   "cell_type": "code",
   "execution_count": null,
   "metadata": {},
   "outputs": [],
   "source": [
    "#cargar el modelo\n",
    "model = tensorflow.keras.models.load_model('keras_model.h5')"
   ]
  },
  {
   "cell_type": "code",
   "execution_count": null,
   "metadata": {},
   "outputs": [],
   "source": [
    "#crear la matriz de la forma correcta para cargar en el modelo\n",
    "#de keras \"length\" el número de imágenes que puede colocar en la matriz está \n",
    "#determinado por la primera posición en la tupla de forma, en este caso 1\n",
    "data=np.ndarray(shape=(1,257,360,3), dtype=np.float32)\n",
    "#data=np.ndarray(shape=(1,257,360,3), dtype=np.float32)"
   ]
  },
  {
   "cell_type": "code",
   "execution_count": null,
   "metadata": {},
   "outputs": [],
   "source": [
    "#Reemplaza esto con la ruta a tu imagen\n",
    "#image = Image.open('with_mask/with-mask-default-mask-seed0000.png')\n",
    "image = Image.open('1.jpg')\n",
    "#image = Image.open('seed0033.png')"
   ]
  },
  {
   "cell_type": "code",
   "execution_count": null,
   "metadata": {},
   "outputs": [],
   "source": [
    "#resize the image to a 224x224 with the same strategy as in TM2:\n",
    "#resizing the imagen to be at least 224x224 and cropping from the center\n",
    "size = (1024, 1024)\n",
    "image: ImageOps.fit(image, size, Image.ANTIALIAS)"
   ]
  },
  {
   "cell_type": "code",
   "execution_count": null,
   "metadata": {},
   "outputs": [],
   "source": [
    "#turn the image int o numpy array\n",
    "image_array = np.asarray(image)"
   ]
  },
  {
   "cell_type": "code",
   "execution_count": null,
   "metadata": {},
   "outputs": [],
   "source": [
    "#mostrar la imagen redimensionada\n",
    "image.show()"
   ]
  },
  {
   "cell_type": "code",
   "execution_count": null,
   "metadata": {},
   "outputs": [],
   "source": [
    "#Normalizar la imagen\n",
    "normalized_image_array = (image_array.astype(np.float32)/127.0)-1"
   ]
  },
  {
   "cell_type": "code",
   "execution_count": null,
   "metadata": {},
   "outputs": [],
   "source": [
    "#cargar la imagen en la matriz\n",
    "data[0] = normalized_image_array"
   ]
  },
  {
   "cell_type": "code",
   "execution_count": null,
   "metadata": {},
   "outputs": [],
   "source": [
    "#run the infernce\n",
    "pred=model.predict(data)[0]"
   ]
  },
  {
   "cell_type": "code",
   "execution_count": null,
   "metadata": {},
   "outputs": [],
   "source": [
    "print(pred[1])"
   ]
  },
  {
   "cell_type": "code",
   "execution_count": null,
   "metadata": {},
   "outputs": [],
   "source": [
    "print(pred[2])"
   ]
  },
  {
   "cell_type": "code",
   "execution_count": null,
   "metadata": {},
   "outputs": [],
   "source": [
    "if pred[0]>=pred[1]:\n",
    "    print('no mask')\n",
    "elif pred[0]<=pred[2]:\n",
    "        print('wrong mask')\n",
    "else:\n",
    "    print('mask')\n"
   ]
  },
  {
   "cell_type": "code",
   "execution_count": null,
   "metadata": {},
   "outputs": [],
   "source": []
  }
 ],
 "metadata": {
  "kernelspec": {
   "display_name": "Python 3",
   "language": "python",
   "name": "python3"
  },
  "language_info": {
   "codemirror_mode": {
    "name": "ipython",
    "version": 3
   },
   "file_extension": ".py",
   "mimetype": "text/x-python",
   "name": "python",
   "nbconvert_exporter": "python",
   "pygments_lexer": "ipython3",
   "version": "3.8.8"
  }
 },
 "nbformat": 4,
 "nbformat_minor": 4
}
