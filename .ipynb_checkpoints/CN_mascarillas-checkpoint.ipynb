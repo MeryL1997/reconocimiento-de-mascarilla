{
 "cells": [
  {
   "cell_type": "code",
   "execution_count": 6,
   "metadata": {},
   "outputs": [],
   "source": [
    "#librerias\n",
    "import tensorflow.keras\n",
    "import cv2\n",
    "from PIL import Image, ImageOps\n",
    "import numpy as np"
   ]
  },
  {
   "cell_type": "code",
   "execution_count": 7,
   "metadata": {},
   "outputs": [],
   "source": [
    "#deshabilitar la notación científica para mayor claridad\n",
    "np.set_printoptions(suppress=True)"
   ]
  },
  {
   "cell_type": "code",
   "execution_count": 8,
   "metadata": {},
   "outputs": [
    {
     "name": "stdout",
     "output_type": "stream",
     "text": [
      "WARNING:tensorflow:No training configuration found in the save file, so the model was *not* compiled. Compile it manually.\n"
     ]
    }
   ],
   "source": [
    "#cargar el modelo\n",
    "model = tensorflow.keras.models.load_model('keras_model.h5')"
   ]
  },
  {
   "cell_type": "code",
   "execution_count": 59,
   "metadata": {},
   "outputs": [],
   "source": [
    "#crear la matriz de la forma correcta para cargar en el modelo\n",
    "#de keras \"length\" el número de imágenes que puede colocar en la matriz está \n",
    "#determinado por la primera posición en la tupla de forma, en este caso 1\n",
    "data=np.ndarray(shape=(1,1024,1024,3), dtype=np.float32)\n",
    "#data=np.ndarray(shape=(1,267,189,3), dtype=np.float32)"
   ]
  },
  {
   "cell_type": "code",
   "execution_count": 60,
   "metadata": {},
   "outputs": [],
   "source": [
    "#Reemplaza esto con la ruta a tu imagen\n",
    "#image = Image.open('with-mask-default-mask-seed0000.png')\n",
    "image = Image.open('seed0033.png')"
   ]
  },
  {
   "cell_type": "code",
   "execution_count": 61,
   "metadata": {},
   "outputs": [],
   "source": [
    "#resize the image to a 224x224 with the same strategy as in TM2:\n",
    "#resizing the imagen to be at least 224x224 and cropping from the center\n",
    "size = (1024, 1024)\n",
    "image: ImageOps.fit(image, size, Image.ANTIALIAS)"
   ]
  },
  {
   "cell_type": "code",
   "execution_count": 62,
   "metadata": {},
   "outputs": [],
   "source": [
    "#turn the image int o numpy array\n",
    "image_array = np.asarray(image)"
   ]
  },
  {
   "cell_type": "code",
   "execution_count": 63,
   "metadata": {},
   "outputs": [],
   "source": [
    "#mostrar la imagen redimensionada\n",
    "image.show()"
   ]
  },
  {
   "cell_type": "code",
   "execution_count": 64,
   "metadata": {},
   "outputs": [],
   "source": [
    "#Normalizar la imagen\n",
    "normalized_image_array = (image_array.astype(np.float32)/127.0)-1"
   ]
  },
  {
   "cell_type": "code",
   "execution_count": 65,
   "metadata": {},
   "outputs": [],
   "source": [
    "#cargar la imagen en la matriz\n",
    "data[0] = normalized_image_array"
   ]
  },
  {
   "cell_type": "code",
   "execution_count": 66,
   "metadata": {},
   "outputs": [],
   "source": [
    "#run the infernce\n",
    "pred=model.predict(data)[0]"
   ]
  },
  {
   "cell_type": "code",
   "execution_count": 67,
   "metadata": {},
   "outputs": [
    {
     "name": "stdout",
     "output_type": "stream",
     "text": [
      "0.07065634\n"
     ]
    }
   ],
   "source": [
    "print(pred[1])"
   ]
  },
  {
   "cell_type": "code",
   "execution_count": 68,
   "metadata": {},
   "outputs": [
    {
     "name": "stdout",
     "output_type": "stream",
     "text": [
      "0.7365054\n"
     ]
    }
   ],
   "source": [
    "print(pred[2])"
   ]
  },
  {
   "cell_type": "code",
   "execution_count": 69,
   "metadata": {},
   "outputs": [
    {
     "name": "stdout",
     "output_type": "stream",
     "text": [
      "no mask\n"
     ]
    }
   ],
   "source": [
    "if pred[0]>=pred[1]:\n",
    "    print('no mask')\n",
    "elif pred[0]<=pred[2]:\n",
    "        print('wrong mask')\n",
    "else:\n",
    "    print('mask')\n"
   ]
  }
 ],
 "metadata": {
  "kernelspec": {
   "display_name": "Python 3",
   "language": "python",
   "name": "python3"
  },
  "language_info": {
   "codemirror_mode": {
    "name": "ipython",
    "version": 3
   },
   "file_extension": ".py",
   "mimetype": "text/x-python",
   "name": "python",
   "nbconvert_exporter": "python",
   "pygments_lexer": "ipython3",
   "version": "3.8.8"
  }
 },
 "nbformat": 4,
 "nbformat_minor": 4
}
